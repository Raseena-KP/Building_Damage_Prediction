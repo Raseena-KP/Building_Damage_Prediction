{
 "cells": [
  {
   "cell_type": "code",
   "execution_count": 1,
   "id": "d839f2e9",
   "metadata": {},
   "outputs": [],
   "source": [
    "#building damage Classification Prediction Model\n",
    "import numpy as np\n",
    "import pandas as pd\n",
    "from sklearn.ensemble import RandomForestClassifier\n",
    "from sklearn.preprocessing import LabelEncoder\n",
    "from sklearn.model_selection import train_test_split\n",
    "from sklearn.preprocessing import StandardScaler\n",
    "from sklearn.neighbors import DistanceMetric\n",
    "import pickle\n",
    "\n",
    "#reading the dataset to python \n",
    "df=pd.read_csv(\"csv_building_structure.csv\") \n",
    "# Handling Missing values\n",
    "df.isna().sum()\n",
    "index=[83766, 131558, 131579, 131627, 131629, 131640, 131652, 131654,131655, 131656, 131929, 131932]\n",
    "for i in index:\n",
    "    df.drop(i,axis=0,inplace=True)\n",
    "    \n",
    "def impute_plinth_area(cols):\n",
    "    rtype=cols[0]\n",
    "    plinth=cols[1]\n",
    "    if pd.isnull(plinth):\n",
    "        if rtype == \"Bamboo/Timber-Heavy roof\" :\n",
    "            return 360\n",
    "        elif rtype == \"Bamboo/Timber-Light roof\" :\n",
    "            return 345\n",
    "        elif rtype == \"RCC/RB/RBC\" :\n",
    "            return 700\n",
    "    else:\n",
    "        return plinth\n",
    "\n",
    "df[\"roof_type\"]=df[\"roof_type\"].fillna(df[\"roof_type\"].mode()[0])\n",
    "df[\"plinth_area_sq_ft\"]=df[[\"roof_type\",\"plinth_area_sq_ft\"]].apply(impute_plinth_area,axis=1)\n",
    "\n",
    "#Removing the duplicates\n",
    "df.drop_duplicates(keep='first',inplace=True)\n",
    "\n",
    "#Handling of outlirers in the dataset\n",
    "Q1=df['age_building'].quantile(0.25)\n",
    "Q3=df['age_building'].quantile(0.75)\n",
    "IQR=Q3-Q1    \n",
    "LL=Q1-(1.5*IQR)\n",
    "UL=Q3+(1.5*IQR)\n",
    "df['age_building']= np.where(df['age_building']>UL,UL,np.where(df['age_building']<LL,LL,\n",
    "                                                                           df['age_building']))\n",
    "Raw_Data=df.copy()\n",
    "Raw_Data['plinth_area_sq_ft'] = np.log(Raw_Data['plinth_area_sq_ft'])\n",
    "Raw_Data['height_ft_pre_eq'] = np.log(Raw_Data['height_ft_pre_eq'])\n",
    "Raw_Data.drop(['building_id', 'district_id', 'vdcmun_id', 'ward_id'],axis=1,inplace=True)\n",
    "Raw_Data.drop(['has_superstructure_timber',\n",
    "       'plan_configuration', 'has_superstructure_cement_mortar_brick',\n",
    "       'has_superstructure_bamboo', 'has_superstructure_stone_flag',\n",
    "       'has_superstructure_adobe_mud', 'has_superstructure_mud_mortar_brick',\n",
    "       'has_superstructure_cement_mortar_stone',\n",
    "       'has_superstructure_rc_non_engineered', 'has_superstructure_other',\n",
    "       'has_superstructure_rc_engineered'],axis=1,inplace=True)\n",
    "\n",
    "#Encoding the Target column\n",
    "lbl=LabelEncoder()\n",
    "Raw_Data[\"damage_grade\"]=lbl.fit_transform(Raw_Data[\"damage_grade\"])\n",
    "\n",
    "X = Raw_Data.drop(['damage_grade'],axis=1)\n",
    "y= Raw_Data['damage_grade']\n",
    " \n",
    "import category_encoders as ce \n",
    "# # Define catboost encoder\n",
    "cbe_encoder = ce.cat_boost.CatBoostEncoder()\n",
    "  \n",
    "# # Fit encoder and transform the features\n",
    "cbe_encoder.fit(X, y)\n",
    "X = cbe_encoder.transform(X)\n",
    "\n",
    "X_train,X_test,y_train,y_test = train_test_split(X,y,test_size=0.3,random_state=34,stratify=y)  \n",
    "std=StandardScaler()\n",
    "X_train=std.fit_transform(X_train)\n",
    "X_test=std.transform(X_test)\n",
    "\n",
    "# from imblearn.over_sampling import SMOTE\n",
    "# oversample = SMOTE()\n",
    "# X_train, y_train = oversample.fit_resample(X_train, y_train)\n",
    "\n",
    "# classifier=RandomForestClassifier()\n",
    "# classifier.fit(X_train,y_train)\n",
    "\n",
    "# # # Saving the model to disk\n",
    "# pickle.dump(classifier, open(\"model.pkl\",\"wb\"))\n"
   ]
  },
  {
   "cell_type": "code",
   "execution_count": 2,
   "id": "fd46c132",
   "metadata": {},
   "outputs": [
    {
     "data": {
      "text/html": [
       "<div>\n",
       "<style scoped>\n",
       "    .dataframe tbody tr th:only-of-type {\n",
       "        vertical-align: middle;\n",
       "    }\n",
       "\n",
       "    .dataframe tbody tr th {\n",
       "        vertical-align: top;\n",
       "    }\n",
       "\n",
       "    .dataframe thead th {\n",
       "        text-align: right;\n",
       "    }\n",
       "</style>\n",
       "<table border=\"1\" class=\"dataframe\">\n",
       "  <thead>\n",
       "    <tr style=\"text-align: right;\">\n",
       "      <th></th>\n",
       "      <th>count_floors_pre_eq</th>\n",
       "      <th>age_building</th>\n",
       "      <th>plinth_area_sq_ft</th>\n",
       "      <th>height_ft_pre_eq</th>\n",
       "      <th>land_surface_condition</th>\n",
       "      <th>foundation_type</th>\n",
       "      <th>roof_type</th>\n",
       "      <th>ground_floor_type</th>\n",
       "      <th>other_floor_type</th>\n",
       "      <th>position</th>\n",
       "      <th>has_superstructure_mud_mortar_stone</th>\n",
       "    </tr>\n",
       "  </thead>\n",
       "  <tbody>\n",
       "    <tr>\n",
       "      <th>0</th>\n",
       "      <td>1</td>\n",
       "      <td>9.0</td>\n",
       "      <td>5.662960</td>\n",
       "      <td>2.197225</td>\n",
       "      <td>2.598719</td>\n",
       "      <td>2.169431</td>\n",
       "      <td>2.720530</td>\n",
       "      <td>2.807554</td>\n",
       "      <td>1.995678</td>\n",
       "      <td>2.599072</td>\n",
       "      <td>1</td>\n",
       "    </tr>\n",
       "    <tr>\n",
       "      <th>1</th>\n",
       "      <td>1</td>\n",
       "      <td>15.0</td>\n",
       "      <td>5.897154</td>\n",
       "      <td>2.197225</td>\n",
       "      <td>2.598719</td>\n",
       "      <td>2.169431</td>\n",
       "      <td>2.720530</td>\n",
       "      <td>2.807554</td>\n",
       "      <td>1.995678</td>\n",
       "      <td>2.599072</td>\n",
       "      <td>1</td>\n",
       "    </tr>\n",
       "    <tr>\n",
       "      <th>2</th>\n",
       "      <td>1</td>\n",
       "      <td>20.0</td>\n",
       "      <td>5.950643</td>\n",
       "      <td>2.197225</td>\n",
       "      <td>2.598719</td>\n",
       "      <td>2.169431</td>\n",
       "      <td>2.720530</td>\n",
       "      <td>2.807554</td>\n",
       "      <td>1.995678</td>\n",
       "      <td>2.599072</td>\n",
       "      <td>1</td>\n",
       "    </tr>\n",
       "    <tr>\n",
       "      <th>3</th>\n",
       "      <td>1</td>\n",
       "      <td>20.0</td>\n",
       "      <td>5.743003</td>\n",
       "      <td>2.197225</td>\n",
       "      <td>2.598719</td>\n",
       "      <td>2.169431</td>\n",
       "      <td>2.720530</td>\n",
       "      <td>2.807554</td>\n",
       "      <td>1.995678</td>\n",
       "      <td>2.599072</td>\n",
       "      <td>1</td>\n",
       "    </tr>\n",
       "    <tr>\n",
       "      <th>4</th>\n",
       "      <td>1</td>\n",
       "      <td>30.0</td>\n",
       "      <td>5.730100</td>\n",
       "      <td>2.197225</td>\n",
       "      <td>2.598719</td>\n",
       "      <td>2.169431</td>\n",
       "      <td>2.720530</td>\n",
       "      <td>2.807554</td>\n",
       "      <td>1.995678</td>\n",
       "      <td>2.599072</td>\n",
       "      <td>1</td>\n",
       "    </tr>\n",
       "    <tr>\n",
       "      <th>...</th>\n",
       "      <td>...</td>\n",
       "      <td>...</td>\n",
       "      <td>...</td>\n",
       "      <td>...</td>\n",
       "      <td>...</td>\n",
       "      <td>...</td>\n",
       "      <td>...</td>\n",
       "      <td>...</td>\n",
       "      <td>...</td>\n",
       "      <td>...</td>\n",
       "      <td>...</td>\n",
       "    </tr>\n",
       "    <tr>\n",
       "      <th>762101</th>\n",
       "      <td>2</td>\n",
       "      <td>55.5</td>\n",
       "      <td>5.105945</td>\n",
       "      <td>2.890372</td>\n",
       "      <td>2.598719</td>\n",
       "      <td>2.893527</td>\n",
       "      <td>2.775768</td>\n",
       "      <td>2.807554</td>\n",
       "      <td>2.720470</td>\n",
       "      <td>2.224853</td>\n",
       "      <td>1</td>\n",
       "    </tr>\n",
       "    <tr>\n",
       "      <th>762102</th>\n",
       "      <td>2</td>\n",
       "      <td>35.0</td>\n",
       "      <td>5.834811</td>\n",
       "      <td>2.890372</td>\n",
       "      <td>2.598719</td>\n",
       "      <td>2.893527</td>\n",
       "      <td>2.775768</td>\n",
       "      <td>2.807554</td>\n",
       "      <td>2.720470</td>\n",
       "      <td>2.776982</td>\n",
       "      <td>1</td>\n",
       "    </tr>\n",
       "    <tr>\n",
       "      <th>762103</th>\n",
       "      <td>2</td>\n",
       "      <td>35.0</td>\n",
       "      <td>5.834811</td>\n",
       "      <td>2.890372</td>\n",
       "      <td>2.598719</td>\n",
       "      <td>2.893527</td>\n",
       "      <td>2.775768</td>\n",
       "      <td>2.807554</td>\n",
       "      <td>2.720470</td>\n",
       "      <td>2.599072</td>\n",
       "      <td>1</td>\n",
       "    </tr>\n",
       "    <tr>\n",
       "      <th>762104</th>\n",
       "      <td>2</td>\n",
       "      <td>19.0</td>\n",
       "      <td>5.723585</td>\n",
       "      <td>2.890372</td>\n",
       "      <td>2.598719</td>\n",
       "      <td>2.893527</td>\n",
       "      <td>2.775768</td>\n",
       "      <td>2.807554</td>\n",
       "      <td>2.720470</td>\n",
       "      <td>2.599072</td>\n",
       "      <td>1</td>\n",
       "    </tr>\n",
       "    <tr>\n",
       "      <th>762105</th>\n",
       "      <td>2</td>\n",
       "      <td>12.0</td>\n",
       "      <td>6.733402</td>\n",
       "      <td>2.890372</td>\n",
       "      <td>2.598719</td>\n",
       "      <td>2.893527</td>\n",
       "      <td>2.775768</td>\n",
       "      <td>2.807554</td>\n",
       "      <td>2.720470</td>\n",
       "      <td>2.599072</td>\n",
       "      <td>1</td>\n",
       "    </tr>\n",
       "  </tbody>\n",
       "</table>\n",
       "<p>723524 rows × 11 columns</p>\n",
       "</div>"
      ],
      "text/plain": [
       "        count_floors_pre_eq  age_building  plinth_area_sq_ft  \\\n",
       "0                         1           9.0           5.662960   \n",
       "1                         1          15.0           5.897154   \n",
       "2                         1          20.0           5.950643   \n",
       "3                         1          20.0           5.743003   \n",
       "4                         1          30.0           5.730100   \n",
       "...                     ...           ...                ...   \n",
       "762101                    2          55.5           5.105945   \n",
       "762102                    2          35.0           5.834811   \n",
       "762103                    2          35.0           5.834811   \n",
       "762104                    2          19.0           5.723585   \n",
       "762105                    2          12.0           6.733402   \n",
       "\n",
       "        height_ft_pre_eq  land_surface_condition  foundation_type  roof_type  \\\n",
       "0               2.197225                2.598719         2.169431   2.720530   \n",
       "1               2.197225                2.598719         2.169431   2.720530   \n",
       "2               2.197225                2.598719         2.169431   2.720530   \n",
       "3               2.197225                2.598719         2.169431   2.720530   \n",
       "4               2.197225                2.598719         2.169431   2.720530   \n",
       "...                  ...                     ...              ...        ...   \n",
       "762101          2.890372                2.598719         2.893527   2.775768   \n",
       "762102          2.890372                2.598719         2.893527   2.775768   \n",
       "762103          2.890372                2.598719         2.893527   2.775768   \n",
       "762104          2.890372                2.598719         2.893527   2.775768   \n",
       "762105          2.890372                2.598719         2.893527   2.775768   \n",
       "\n",
       "        ground_floor_type  other_floor_type  position  \\\n",
       "0                2.807554          1.995678  2.599072   \n",
       "1                2.807554          1.995678  2.599072   \n",
       "2                2.807554          1.995678  2.599072   \n",
       "3                2.807554          1.995678  2.599072   \n",
       "4                2.807554          1.995678  2.599072   \n",
       "...                   ...               ...       ...   \n",
       "762101           2.807554          2.720470  2.224853   \n",
       "762102           2.807554          2.720470  2.776982   \n",
       "762103           2.807554          2.720470  2.599072   \n",
       "762104           2.807554          2.720470  2.599072   \n",
       "762105           2.807554          2.720470  2.599072   \n",
       "\n",
       "        has_superstructure_mud_mortar_stone  \n",
       "0                                         1  \n",
       "1                                         1  \n",
       "2                                         1  \n",
       "3                                         1  \n",
       "4                                         1  \n",
       "...                                     ...  \n",
       "762101                                    1  \n",
       "762102                                    1  \n",
       "762103                                    1  \n",
       "762104                                    1  \n",
       "762105                                    1  \n",
       "\n",
       "[723524 rows x 11 columns]"
      ]
     },
     "execution_count": 2,
     "metadata": {},
     "output_type": "execute_result"
    }
   ],
   "source": [
    "X"
   ]
  },
  {
   "cell_type": "code",
   "execution_count": 3,
   "id": "b983bc49",
   "metadata": {},
   "outputs": [],
   "source": [
    "from collections import Counter\n",
    "from sklearn.datasets import make_classification\n",
    "from imblearn.under_sampling import OneSidedSelection \n"
   ]
  },
  {
   "cell_type": "code",
   "execution_count": 4,
   "id": "933c20ba",
   "metadata": {},
   "outputs": [
    {
     "name": "stdout",
     "output_type": "stream",
     "text": [
      "Original dataset shape Counter({4: 253777, 3: 175797, 2: 131894, 1: 85458, 0: 76598})\n"
     ]
    }
   ],
   "source": [
    "print('Original dataset shape {}'.format(Counter(y)))\n"
   ]
  },
  {
   "cell_type": "code",
   "execution_count": 5,
   "id": "56368d06",
   "metadata": {},
   "outputs": [
    {
     "name": "stdout",
     "output_type": "stream",
     "text": [
      "Resampled dataset shape Counter({4: 210629, 3: 137073, 2: 97435, 0: 76598, 1: 61167})\n"
     ]
    }
   ],
   "source": [
    "oss = OneSidedSelection(random_state=42)\n",
    "X_res, y_res = oss.fit_resample(X, y)\n",
    "print('Resampled dataset shape %s' % Counter(y_res))"
   ]
  },
  {
   "cell_type": "code",
   "execution_count": 6,
   "id": "3c9d8acd",
   "metadata": {},
   "outputs": [],
   "source": [
    "X_train,X_test,y_train,y_test = train_test_split(X_res,y_res,test_size=0.3,random_state=34,stratify=y_res)"
   ]
  },
  {
   "cell_type": "code",
   "execution_count": null,
   "id": "c62c86d3",
   "metadata": {},
   "outputs": [],
   "source": [
    "from sklearn.preprocessing import StandardScaler\n",
    "\n",
    "std=StandardScaler()\n",
    "X_train=std.fit_transform(X_train)\n",
    "X_test=std.transform(X_test)"
   ]
  },
  {
   "cell_type": "code",
   "execution_count": 10,
   "id": "6d1600c7",
   "metadata": {},
   "outputs": [
    {
     "data": {
      "text/html": [
       "<style>#sk-container-id-1 {color: black;background-color: white;}#sk-container-id-1 pre{padding: 0;}#sk-container-id-1 div.sk-toggleable {background-color: white;}#sk-container-id-1 label.sk-toggleable__label {cursor: pointer;display: block;width: 100%;margin-bottom: 0;padding: 0.3em;box-sizing: border-box;text-align: center;}#sk-container-id-1 label.sk-toggleable__label-arrow:before {content: \"▸\";float: left;margin-right: 0.25em;color: #696969;}#sk-container-id-1 label.sk-toggleable__label-arrow:hover:before {color: black;}#sk-container-id-1 div.sk-estimator:hover label.sk-toggleable__label-arrow:before {color: black;}#sk-container-id-1 div.sk-toggleable__content {max-height: 0;max-width: 0;overflow: hidden;text-align: left;background-color: #f0f8ff;}#sk-container-id-1 div.sk-toggleable__content pre {margin: 0.2em;color: black;border-radius: 0.25em;background-color: #f0f8ff;}#sk-container-id-1 input.sk-toggleable__control:checked~div.sk-toggleable__content {max-height: 200px;max-width: 100%;overflow: auto;}#sk-container-id-1 input.sk-toggleable__control:checked~label.sk-toggleable__label-arrow:before {content: \"▾\";}#sk-container-id-1 div.sk-estimator input.sk-toggleable__control:checked~label.sk-toggleable__label {background-color: #d4ebff;}#sk-container-id-1 div.sk-label input.sk-toggleable__control:checked~label.sk-toggleable__label {background-color: #d4ebff;}#sk-container-id-1 input.sk-hidden--visually {border: 0;clip: rect(1px 1px 1px 1px);clip: rect(1px, 1px, 1px, 1px);height: 1px;margin: -1px;overflow: hidden;padding: 0;position: absolute;width: 1px;}#sk-container-id-1 div.sk-estimator {font-family: monospace;background-color: #f0f8ff;border: 1px dotted black;border-radius: 0.25em;box-sizing: border-box;margin-bottom: 0.5em;}#sk-container-id-1 div.sk-estimator:hover {background-color: #d4ebff;}#sk-container-id-1 div.sk-parallel-item::after {content: \"\";width: 100%;border-bottom: 1px solid gray;flex-grow: 1;}#sk-container-id-1 div.sk-label:hover label.sk-toggleable__label {background-color: #d4ebff;}#sk-container-id-1 div.sk-serial::before {content: \"\";position: absolute;border-left: 1px solid gray;box-sizing: border-box;top: 0;bottom: 0;left: 50%;z-index: 0;}#sk-container-id-1 div.sk-serial {display: flex;flex-direction: column;align-items: center;background-color: white;padding-right: 0.2em;padding-left: 0.2em;position: relative;}#sk-container-id-1 div.sk-item {position: relative;z-index: 1;}#sk-container-id-1 div.sk-parallel {display: flex;align-items: stretch;justify-content: center;background-color: white;position: relative;}#sk-container-id-1 div.sk-item::before, #sk-container-id-1 div.sk-parallel-item::before {content: \"\";position: absolute;border-left: 1px solid gray;box-sizing: border-box;top: 0;bottom: 0;left: 50%;z-index: -1;}#sk-container-id-1 div.sk-parallel-item {display: flex;flex-direction: column;z-index: 1;position: relative;background-color: white;}#sk-container-id-1 div.sk-parallel-item:first-child::after {align-self: flex-end;width: 50%;}#sk-container-id-1 div.sk-parallel-item:last-child::after {align-self: flex-start;width: 50%;}#sk-container-id-1 div.sk-parallel-item:only-child::after {width: 0;}#sk-container-id-1 div.sk-dashed-wrapped {border: 1px dashed gray;margin: 0 0.4em 0.5em 0.4em;box-sizing: border-box;padding-bottom: 0.4em;background-color: white;}#sk-container-id-1 div.sk-label label {font-family: monospace;font-weight: bold;display: inline-block;line-height: 1.2em;}#sk-container-id-1 div.sk-label-container {text-align: center;}#sk-container-id-1 div.sk-container {/* jupyter's `normalize.less` sets `[hidden] { display: none; }` but bootstrap.min.css set `[hidden] { display: none !important; }` so we also need the `!important` here to be able to override the default hidden behavior on the sphinx rendered scikit-learn.org. See: https://github.com/scikit-learn/scikit-learn/issues/21755 */display: inline-block !important;position: relative;}#sk-container-id-1 div.sk-text-repr-fallback {display: none;}</style><div id=\"sk-container-id-1\" class=\"sk-top-container\"><div class=\"sk-text-repr-fallback\"><pre>RandomForestClassifier()</pre><b>In a Jupyter environment, please rerun this cell to show the HTML representation or trust the notebook. <br />On GitHub, the HTML representation is unable to render, please try loading this page with nbviewer.org.</b></div><div class=\"sk-container\" hidden><div class=\"sk-item\"><div class=\"sk-estimator sk-toggleable\"><input class=\"sk-toggleable__control sk-hidden--visually\" id=\"sk-estimator-id-1\" type=\"checkbox\" checked><label for=\"sk-estimator-id-1\" class=\"sk-toggleable__label sk-toggleable__label-arrow\">RandomForestClassifier</label><div class=\"sk-toggleable__content\"><pre>RandomForestClassifier()</pre></div></div></div></div></div>"
      ],
      "text/plain": [
       "RandomForestClassifier()"
      ]
     },
     "execution_count": 10,
     "metadata": {},
     "output_type": "execute_result"
    }
   ],
   "source": [
    "classifier=RandomForestClassifier()\n",
    "classifier.fit(X_train,y_train)"
   ]
  },
  {
   "cell_type": "code",
   "execution_count": 13,
   "id": "15a0a10e",
   "metadata": {},
   "outputs": [],
   "source": [
    "from sklearn.metrics import confusion_matrix,accuracy_score,classification_report"
   ]
  },
  {
   "cell_type": "code",
   "execution_count": 13,
   "id": "a3e363c6",
   "metadata": {},
   "outputs": [
    {
     "name": "stdout",
     "output_type": "stream",
     "text": [
      "[[13415  2739  2102  1808  2915]\n",
      " [ 4420  3100  2853  3103  4874]\n",
      " [ 2905  2524  6156  6947 10699]\n",
      " [ 1710  2184  5946 13237 18045]\n",
      " [ 1851  2581  6857 13722 38178]]\n",
      "0.42366087001275227\n",
      "              precision    recall  f1-score   support\n",
      "\n",
      "           0       0.55      0.58      0.57     22979\n",
      "           1       0.24      0.17      0.20     18350\n",
      "           2       0.26      0.21      0.23     29231\n",
      "           3       0.34      0.32      0.33     41122\n",
      "           4       0.51      0.60      0.55     63189\n",
      "\n",
      "    accuracy                           0.42    174871\n",
      "   macro avg       0.38      0.38      0.38    174871\n",
      "weighted avg       0.41      0.42      0.41    174871\n",
      "\n"
     ]
    }
   ],
   "source": [
    "y_pred=classifier.predict(X_test)\n",
    "print(confusion_matrix(y_test,y_pred))\n",
    "print(accuracy_score(y_test,y_pred))\n",
    "print(classification_report(y_test,y_pred))"
   ]
  },
  {
   "cell_type": "code",
   "execution_count": 14,
   "id": "31ceee14",
   "metadata": {},
   "outputs": [],
   "source": [
    "# Repeated Edited Neibours"
   ]
  },
  {
   "cell_type": "code",
   "execution_count": 7,
   "id": "fc9038cc",
   "metadata": {},
   "outputs": [
    {
     "name": "stdout",
     "output_type": "stream",
     "text": [
      "Original dataset shape Counter({4: 253777, 3: 175797, 2: 131894, 1: 85458, 0: 76598})\n"
     ]
    }
   ],
   "source": [
    "print('Original dataset shape {}'.format(Counter(y)))"
   ]
  },
  {
   "cell_type": "code",
   "execution_count": 8,
   "id": "18244738",
   "metadata": {},
   "outputs": [
    {
     "name": "stdout",
     "output_type": "stream",
     "text": [
      "Resampled dataset shape Counter({0: 76598, 4: 32693, 3: 6553, 2: 2138, 1: 1439})\n"
     ]
    }
   ],
   "source": [
    "from imblearn.under_sampling import RepeatedEditedNearestNeighbours # doctest : +NORMALIZE_WHITESPACE\n",
    "\n",
    "renn = RepeatedEditedNearestNeighbours()\n",
    "X_res, y_res = renn.fit_resample(X, y)\n",
    "print('Resampled dataset shape %s' % Counter(y_res))"
   ]
  },
  {
   "cell_type": "code",
   "execution_count": 9,
   "id": "9ed70a5b",
   "metadata": {},
   "outputs": [],
   "source": [
    "X_train,X_test,y_train,y_test = train_test_split(X_res,y_res,test_size=0.3,random_state=34,stratify=y_res)"
   ]
  },
  {
   "cell_type": "code",
   "execution_count": 10,
   "id": "59466e73",
   "metadata": {},
   "outputs": [],
   "source": [
    "from sklearn.preprocessing import StandardScaler\n",
    "\n",
    "std=StandardScaler()\n",
    "X_train=std.fit_transform(X_train)\n",
    "X_test=std.transform(X_test)"
   ]
  },
  {
   "cell_type": "code",
   "execution_count": 11,
   "id": "a5c4df4f",
   "metadata": {},
   "outputs": [
    {
     "data": {
      "text/html": [
       "<style>#sk-container-id-1 {color: black;background-color: white;}#sk-container-id-1 pre{padding: 0;}#sk-container-id-1 div.sk-toggleable {background-color: white;}#sk-container-id-1 label.sk-toggleable__label {cursor: pointer;display: block;width: 100%;margin-bottom: 0;padding: 0.3em;box-sizing: border-box;text-align: center;}#sk-container-id-1 label.sk-toggleable__label-arrow:before {content: \"▸\";float: left;margin-right: 0.25em;color: #696969;}#sk-container-id-1 label.sk-toggleable__label-arrow:hover:before {color: black;}#sk-container-id-1 div.sk-estimator:hover label.sk-toggleable__label-arrow:before {color: black;}#sk-container-id-1 div.sk-toggleable__content {max-height: 0;max-width: 0;overflow: hidden;text-align: left;background-color: #f0f8ff;}#sk-container-id-1 div.sk-toggleable__content pre {margin: 0.2em;color: black;border-radius: 0.25em;background-color: #f0f8ff;}#sk-container-id-1 input.sk-toggleable__control:checked~div.sk-toggleable__content {max-height: 200px;max-width: 100%;overflow: auto;}#sk-container-id-1 input.sk-toggleable__control:checked~label.sk-toggleable__label-arrow:before {content: \"▾\";}#sk-container-id-1 div.sk-estimator input.sk-toggleable__control:checked~label.sk-toggleable__label {background-color: #d4ebff;}#sk-container-id-1 div.sk-label input.sk-toggleable__control:checked~label.sk-toggleable__label {background-color: #d4ebff;}#sk-container-id-1 input.sk-hidden--visually {border: 0;clip: rect(1px 1px 1px 1px);clip: rect(1px, 1px, 1px, 1px);height: 1px;margin: -1px;overflow: hidden;padding: 0;position: absolute;width: 1px;}#sk-container-id-1 div.sk-estimator {font-family: monospace;background-color: #f0f8ff;border: 1px dotted black;border-radius: 0.25em;box-sizing: border-box;margin-bottom: 0.5em;}#sk-container-id-1 div.sk-estimator:hover {background-color: #d4ebff;}#sk-container-id-1 div.sk-parallel-item::after {content: \"\";width: 100%;border-bottom: 1px solid gray;flex-grow: 1;}#sk-container-id-1 div.sk-label:hover label.sk-toggleable__label {background-color: #d4ebff;}#sk-container-id-1 div.sk-serial::before {content: \"\";position: absolute;border-left: 1px solid gray;box-sizing: border-box;top: 0;bottom: 0;left: 50%;z-index: 0;}#sk-container-id-1 div.sk-serial {display: flex;flex-direction: column;align-items: center;background-color: white;padding-right: 0.2em;padding-left: 0.2em;position: relative;}#sk-container-id-1 div.sk-item {position: relative;z-index: 1;}#sk-container-id-1 div.sk-parallel {display: flex;align-items: stretch;justify-content: center;background-color: white;position: relative;}#sk-container-id-1 div.sk-item::before, #sk-container-id-1 div.sk-parallel-item::before {content: \"\";position: absolute;border-left: 1px solid gray;box-sizing: border-box;top: 0;bottom: 0;left: 50%;z-index: -1;}#sk-container-id-1 div.sk-parallel-item {display: flex;flex-direction: column;z-index: 1;position: relative;background-color: white;}#sk-container-id-1 div.sk-parallel-item:first-child::after {align-self: flex-end;width: 50%;}#sk-container-id-1 div.sk-parallel-item:last-child::after {align-self: flex-start;width: 50%;}#sk-container-id-1 div.sk-parallel-item:only-child::after {width: 0;}#sk-container-id-1 div.sk-dashed-wrapped {border: 1px dashed gray;margin: 0 0.4em 0.5em 0.4em;box-sizing: border-box;padding-bottom: 0.4em;background-color: white;}#sk-container-id-1 div.sk-label label {font-family: monospace;font-weight: bold;display: inline-block;line-height: 1.2em;}#sk-container-id-1 div.sk-label-container {text-align: center;}#sk-container-id-1 div.sk-container {/* jupyter's `normalize.less` sets `[hidden] { display: none; }` but bootstrap.min.css set `[hidden] { display: none !important; }` so we also need the `!important` here to be able to override the default hidden behavior on the sphinx rendered scikit-learn.org. See: https://github.com/scikit-learn/scikit-learn/issues/21755 */display: inline-block !important;position: relative;}#sk-container-id-1 div.sk-text-repr-fallback {display: none;}</style><div id=\"sk-container-id-1\" class=\"sk-top-container\"><div class=\"sk-text-repr-fallback\"><pre>RandomForestClassifier()</pre><b>In a Jupyter environment, please rerun this cell to show the HTML representation or trust the notebook. <br />On GitHub, the HTML representation is unable to render, please try loading this page with nbviewer.org.</b></div><div class=\"sk-container\" hidden><div class=\"sk-item\"><div class=\"sk-estimator sk-toggleable\"><input class=\"sk-toggleable__control sk-hidden--visually\" id=\"sk-estimator-id-1\" type=\"checkbox\" checked><label for=\"sk-estimator-id-1\" class=\"sk-toggleable__label sk-toggleable__label-arrow\">RandomForestClassifier</label><div class=\"sk-toggleable__content\"><pre>RandomForestClassifier()</pre></div></div></div></div></div>"
      ],
      "text/plain": [
       "RandomForestClassifier()"
      ]
     },
     "execution_count": 11,
     "metadata": {},
     "output_type": "execute_result"
    }
   ],
   "source": [
    "classifier=RandomForestClassifier()\n",
    "classifier.fit(X_train,y_train)"
   ]
  },
  {
   "cell_type": "code",
   "execution_count": 14,
   "id": "146fc5d3",
   "metadata": {},
   "outputs": [
    {
     "name": "stdout",
     "output_type": "stream",
     "text": [
      "[[21261    54    74   258  1333]\n",
      " [  272   155     1     0     4]\n",
      " [  225     1   327    20    68]\n",
      " [  301     0    19  1199   447]\n",
      " [  686     1    17   133  8971]]\n",
      "0.8907527842130237\n",
      "              precision    recall  f1-score   support\n",
      "\n",
      "           0       0.93      0.93      0.93     22980\n",
      "           1       0.73      0.36      0.48       432\n",
      "           2       0.75      0.51      0.61       641\n",
      "           3       0.74      0.61      0.67      1966\n",
      "           4       0.83      0.91      0.87      9808\n",
      "\n",
      "    accuracy                           0.89     35827\n",
      "   macro avg       0.80      0.66      0.71     35827\n",
      "weighted avg       0.89      0.89      0.89     35827\n",
      "\n"
     ]
    }
   ],
   "source": [
    "y_pred=classifier.predict(X_test)\n",
    "print(confusion_matrix(y_test,y_pred))\n",
    "print(accuracy_score(y_test,y_pred))\n",
    "print(classification_report(y_test,y_pred))"
   ]
  },
  {
   "cell_type": "code",
   "execution_count": 20,
   "id": "7f0d9d64",
   "metadata": {},
   "outputs": [],
   "source": [
    "# Condensed Nearest"
   ]
  },
  {
   "cell_type": "code",
   "execution_count": 22,
   "id": "2b34ba1a",
   "metadata": {},
   "outputs": [],
   "source": [
    "\n",
    "from imblearn.under_sampling import CondensedNearestNeighbour \n",
    " "
   ]
  },
  {
   "cell_type": "code",
   "execution_count": 23,
   "id": "1e070a44",
   "metadata": {},
   "outputs": [
    {
     "name": "stdout",
     "output_type": "stream",
     "text": [
      "Original dataset shape Counter({4: 253777, 3: 175797, 2: 131894, 1: 85458, 0: 76598})\n"
     ]
    }
   ],
   "source": [
    "print('Original dataset shape {}'.format(Counter(y)))"
   ]
  },
  {
   "cell_type": "code",
   "execution_count": null,
   "id": "33a0e9db",
   "metadata": {},
   "outputs": [],
   "source": [
    "cnn = CondensedNearestNeighbour(random_state=42) \n",
    "X_res, y_res = cnn.fit_resample(X, y) \n",
    "print('Resampled dataset shape %s' % Counter(y_res)) "
   ]
  },
  {
   "cell_type": "code",
   "execution_count": null,
   "id": "0260623d",
   "metadata": {},
   "outputs": [],
   "source": [
    "X_train,X_test,y_train,y_test = train_test_split(X_res,y_res,test_size=0.3,random_state=34,stratify=y_res)"
   ]
  },
  {
   "cell_type": "code",
   "execution_count": null,
   "id": "7757b946",
   "metadata": {},
   "outputs": [],
   "source": [
    "classifier=RandomForestClassifier()\n",
    "classifier.fit(X_train,y_train)"
   ]
  },
  {
   "cell_type": "code",
   "execution_count": null,
   "id": "8de8b11d",
   "metadata": {},
   "outputs": [],
   "source": [
    "y_pred=classifier.predict(X_test)\n",
    "print(confusion_matrix(y_test,y_pred))\n",
    "print(accuracy_score(y_test,y_pred))\n",
    "print(classification_report(y_test,y_pred))"
   ]
  },
  {
   "cell_type": "code",
   "execution_count": 27,
   "id": "140a000e",
   "metadata": {},
   "outputs": [
    {
     "data": {
      "text/plain": [
       "Index(['count_floors_pre_eq', 'age_building', 'plinth_area_sq_ft',\n",
       "       'height_ft_pre_eq', 'land_surface_condition', 'foundation_type',\n",
       "       'roof_type', 'ground_floor_type', 'other_floor_type', 'position',\n",
       "       'has_superstructure_mud_mortar_stone', 'damage_grade'],\n",
       "      dtype='object')"
      ]
     },
     "execution_count": 27,
     "metadata": {},
     "output_type": "execute_result"
    }
   ],
   "source": [
    "Raw_Data.columns"
   ]
  },
  {
   "cell_type": "code",
   "execution_count": 28,
   "id": "286f509a",
   "metadata": {},
   "outputs": [
    {
     "data": {
      "text/html": [
       "<div>\n",
       "<style scoped>\n",
       "    .dataframe tbody tr th:only-of-type {\n",
       "        vertical-align: middle;\n",
       "    }\n",
       "\n",
       "    .dataframe tbody tr th {\n",
       "        vertical-align: top;\n",
       "    }\n",
       "\n",
       "    .dataframe thead th {\n",
       "        text-align: right;\n",
       "    }\n",
       "</style>\n",
       "<table border=\"1\" class=\"dataframe\">\n",
       "  <thead>\n",
       "    <tr style=\"text-align: right;\">\n",
       "      <th></th>\n",
       "      <th>count_floors_pre_eq</th>\n",
       "      <th>age_building</th>\n",
       "      <th>plinth_area_sq_ft</th>\n",
       "      <th>height_ft_pre_eq</th>\n",
       "      <th>land_surface_condition</th>\n",
       "      <th>foundation_type</th>\n",
       "      <th>roof_type</th>\n",
       "      <th>ground_floor_type</th>\n",
       "      <th>other_floor_type</th>\n",
       "      <th>position</th>\n",
       "      <th>has_superstructure_mud_mortar_stone</th>\n",
       "      <th>damage_grade</th>\n",
       "    </tr>\n",
       "  </thead>\n",
       "  <tbody>\n",
       "    <tr>\n",
       "      <th>0</th>\n",
       "      <td>1</td>\n",
       "      <td>9.0</td>\n",
       "      <td>5.662960</td>\n",
       "      <td>2.197225</td>\n",
       "      <td>Flat</td>\n",
       "      <td>Other</td>\n",
       "      <td>Bamboo/Timber-Light roof</td>\n",
       "      <td>Mud</td>\n",
       "      <td>Not applicable</td>\n",
       "      <td>Not attached</td>\n",
       "      <td>1</td>\n",
       "      <td>2</td>\n",
       "    </tr>\n",
       "    <tr>\n",
       "      <th>1</th>\n",
       "      <td>1</td>\n",
       "      <td>15.0</td>\n",
       "      <td>5.897154</td>\n",
       "      <td>2.197225</td>\n",
       "      <td>Flat</td>\n",
       "      <td>Other</td>\n",
       "      <td>Bamboo/Timber-Light roof</td>\n",
       "      <td>Mud</td>\n",
       "      <td>Not applicable</td>\n",
       "      <td>Not attached</td>\n",
       "      <td>1</td>\n",
       "      <td>4</td>\n",
       "    </tr>\n",
       "    <tr>\n",
       "      <th>2</th>\n",
       "      <td>1</td>\n",
       "      <td>20.0</td>\n",
       "      <td>5.950643</td>\n",
       "      <td>2.197225</td>\n",
       "      <td>Flat</td>\n",
       "      <td>Other</td>\n",
       "      <td>Bamboo/Timber-Light roof</td>\n",
       "      <td>Mud</td>\n",
       "      <td>Not applicable</td>\n",
       "      <td>Not attached</td>\n",
       "      <td>1</td>\n",
       "      <td>1</td>\n",
       "    </tr>\n",
       "    <tr>\n",
       "      <th>3</th>\n",
       "      <td>1</td>\n",
       "      <td>20.0</td>\n",
       "      <td>5.743003</td>\n",
       "      <td>2.197225</td>\n",
       "      <td>Flat</td>\n",
       "      <td>Other</td>\n",
       "      <td>Bamboo/Timber-Light roof</td>\n",
       "      <td>Mud</td>\n",
       "      <td>Not applicable</td>\n",
       "      <td>Not attached</td>\n",
       "      <td>1</td>\n",
       "      <td>1</td>\n",
       "    </tr>\n",
       "    <tr>\n",
       "      <th>4</th>\n",
       "      <td>1</td>\n",
       "      <td>30.0</td>\n",
       "      <td>5.730100</td>\n",
       "      <td>2.197225</td>\n",
       "      <td>Flat</td>\n",
       "      <td>Other</td>\n",
       "      <td>Bamboo/Timber-Light roof</td>\n",
       "      <td>Mud</td>\n",
       "      <td>Not applicable</td>\n",
       "      <td>Not attached</td>\n",
       "      <td>1</td>\n",
       "      <td>0</td>\n",
       "    </tr>\n",
       "    <tr>\n",
       "      <th>...</th>\n",
       "      <td>...</td>\n",
       "      <td>...</td>\n",
       "      <td>...</td>\n",
       "      <td>...</td>\n",
       "      <td>...</td>\n",
       "      <td>...</td>\n",
       "      <td>...</td>\n",
       "      <td>...</td>\n",
       "      <td>...</td>\n",
       "      <td>...</td>\n",
       "      <td>...</td>\n",
       "      <td>...</td>\n",
       "    </tr>\n",
       "    <tr>\n",
       "      <th>762101</th>\n",
       "      <td>2</td>\n",
       "      <td>55.5</td>\n",
       "      <td>5.105945</td>\n",
       "      <td>2.890372</td>\n",
       "      <td>Flat</td>\n",
       "      <td>Mud mortar-Stone/Brick</td>\n",
       "      <td>Bamboo/Timber-Heavy roof</td>\n",
       "      <td>Mud</td>\n",
       "      <td>Timber-Planck</td>\n",
       "      <td>Attached-2 side</td>\n",
       "      <td>1</td>\n",
       "      <td>4</td>\n",
       "    </tr>\n",
       "    <tr>\n",
       "      <th>762102</th>\n",
       "      <td>2</td>\n",
       "      <td>35.0</td>\n",
       "      <td>5.834811</td>\n",
       "      <td>2.890372</td>\n",
       "      <td>Flat</td>\n",
       "      <td>Mud mortar-Stone/Brick</td>\n",
       "      <td>Bamboo/Timber-Heavy roof</td>\n",
       "      <td>Mud</td>\n",
       "      <td>Timber-Planck</td>\n",
       "      <td>Attached-1 side</td>\n",
       "      <td>1</td>\n",
       "      <td>4</td>\n",
       "    </tr>\n",
       "    <tr>\n",
       "      <th>762103</th>\n",
       "      <td>2</td>\n",
       "      <td>35.0</td>\n",
       "      <td>5.834811</td>\n",
       "      <td>2.890372</td>\n",
       "      <td>Flat</td>\n",
       "      <td>Mud mortar-Stone/Brick</td>\n",
       "      <td>Bamboo/Timber-Heavy roof</td>\n",
       "      <td>Mud</td>\n",
       "      <td>Timber-Planck</td>\n",
       "      <td>Not attached</td>\n",
       "      <td>1</td>\n",
       "      <td>4</td>\n",
       "    </tr>\n",
       "    <tr>\n",
       "      <th>762104</th>\n",
       "      <td>2</td>\n",
       "      <td>19.0</td>\n",
       "      <td>5.723585</td>\n",
       "      <td>2.890372</td>\n",
       "      <td>Flat</td>\n",
       "      <td>Mud mortar-Stone/Brick</td>\n",
       "      <td>Bamboo/Timber-Heavy roof</td>\n",
       "      <td>Mud</td>\n",
       "      <td>Timber-Planck</td>\n",
       "      <td>Not attached</td>\n",
       "      <td>1</td>\n",
       "      <td>4</td>\n",
       "    </tr>\n",
       "    <tr>\n",
       "      <th>762105</th>\n",
       "      <td>2</td>\n",
       "      <td>12.0</td>\n",
       "      <td>6.733402</td>\n",
       "      <td>2.890372</td>\n",
       "      <td>Flat</td>\n",
       "      <td>Mud mortar-Stone/Brick</td>\n",
       "      <td>Bamboo/Timber-Heavy roof</td>\n",
       "      <td>Mud</td>\n",
       "      <td>Timber-Planck</td>\n",
       "      <td>Not attached</td>\n",
       "      <td>1</td>\n",
       "      <td>4</td>\n",
       "    </tr>\n",
       "  </tbody>\n",
       "</table>\n",
       "<p>723524 rows × 12 columns</p>\n",
       "</div>"
      ],
      "text/plain": [
       "        count_floors_pre_eq  age_building  plinth_area_sq_ft  \\\n",
       "0                         1           9.0           5.662960   \n",
       "1                         1          15.0           5.897154   \n",
       "2                         1          20.0           5.950643   \n",
       "3                         1          20.0           5.743003   \n",
       "4                         1          30.0           5.730100   \n",
       "...                     ...           ...                ...   \n",
       "762101                    2          55.5           5.105945   \n",
       "762102                    2          35.0           5.834811   \n",
       "762103                    2          35.0           5.834811   \n",
       "762104                    2          19.0           5.723585   \n",
       "762105                    2          12.0           6.733402   \n",
       "\n",
       "        height_ft_pre_eq land_surface_condition         foundation_type  \\\n",
       "0               2.197225                   Flat                   Other   \n",
       "1               2.197225                   Flat                   Other   \n",
       "2               2.197225                   Flat                   Other   \n",
       "3               2.197225                   Flat                   Other   \n",
       "4               2.197225                   Flat                   Other   \n",
       "...                  ...                    ...                     ...   \n",
       "762101          2.890372                   Flat  Mud mortar-Stone/Brick   \n",
       "762102          2.890372                   Flat  Mud mortar-Stone/Brick   \n",
       "762103          2.890372                   Flat  Mud mortar-Stone/Brick   \n",
       "762104          2.890372                   Flat  Mud mortar-Stone/Brick   \n",
       "762105          2.890372                   Flat  Mud mortar-Stone/Brick   \n",
       "\n",
       "                       roof_type ground_floor_type other_floor_type  \\\n",
       "0       Bamboo/Timber-Light roof               Mud   Not applicable   \n",
       "1       Bamboo/Timber-Light roof               Mud   Not applicable   \n",
       "2       Bamboo/Timber-Light roof               Mud   Not applicable   \n",
       "3       Bamboo/Timber-Light roof               Mud   Not applicable   \n",
       "4       Bamboo/Timber-Light roof               Mud   Not applicable   \n",
       "...                          ...               ...              ...   \n",
       "762101  Bamboo/Timber-Heavy roof               Mud    Timber-Planck   \n",
       "762102  Bamboo/Timber-Heavy roof               Mud    Timber-Planck   \n",
       "762103  Bamboo/Timber-Heavy roof               Mud    Timber-Planck   \n",
       "762104  Bamboo/Timber-Heavy roof               Mud    Timber-Planck   \n",
       "762105  Bamboo/Timber-Heavy roof               Mud    Timber-Planck   \n",
       "\n",
       "               position  has_superstructure_mud_mortar_stone  damage_grade  \n",
       "0          Not attached                                    1             2  \n",
       "1          Not attached                                    1             4  \n",
       "2          Not attached                                    1             1  \n",
       "3          Not attached                                    1             1  \n",
       "4          Not attached                                    1             0  \n",
       "...                 ...                                  ...           ...  \n",
       "762101  Attached-2 side                                    1             4  \n",
       "762102  Attached-1 side                                    1             4  \n",
       "762103     Not attached                                    1             4  \n",
       "762104     Not attached                                    1             4  \n",
       "762105     Not attached                                    1             4  \n",
       "\n",
       "[723524 rows x 12 columns]"
      ]
     },
     "execution_count": 28,
     "metadata": {},
     "output_type": "execute_result"
    }
   ],
   "source": [
    "Raw_Data"
   ]
  },
  {
   "cell_type": "code",
   "execution_count": 30,
   "id": "df987c1c",
   "metadata": {},
   "outputs": [
    {
     "data": {
      "text/plain": [
       "2.720530    477916\n",
       "2.775768    201734\n",
       "0.720128     43874\n",
       "Name: roof_type, dtype: int64"
      ]
     },
     "execution_count": 30,
     "metadata": {},
     "output_type": "execute_result"
    }
   ],
   "source": [
    "X[\"roof_type\"].value_counts()"
   ]
  },
  {
   "cell_type": "code",
   "execution_count": 51,
   "id": "7e9c9b6b",
   "metadata": {},
   "outputs": [
    {
     "data": {
      "text/plain": [
       "1    574546\n",
       "0    148978\n",
       "Name: has_superstructure_mud_mortar_stone, dtype: int64"
      ]
     },
     "execution_count": 51,
     "metadata": {},
     "output_type": "execute_result"
    }
   ],
   "source": [
    "Raw_Data[\"has_superstructure_mud_mortar_stone\"].value_counts()"
   ]
  },
  {
   "cell_type": "code",
   "execution_count": 52,
   "id": "a115ee7e",
   "metadata": {},
   "outputs": [
    {
     "data": {
      "text/plain": [
       "1    574546\n",
       "0    148978\n",
       "Name: has_superstructure_mud_mortar_stone, dtype: int64"
      ]
     },
     "execution_count": 52,
     "metadata": {},
     "output_type": "execute_result"
    }
   ],
   "source": [
    "X[\"has_superstructure_mud_mortar_stone\"].value_counts()"
   ]
  },
  {
   "cell_type": "code",
   "execution_count": null,
   "id": "2fcc0540",
   "metadata": {},
   "outputs": [],
   "source": []
  }
 ],
 "metadata": {
  "kernelspec": {
   "display_name": "Python 3 (ipykernel)",
   "language": "python",
   "name": "python3"
  },
  "language_info": {
   "codemirror_mode": {
    "name": "ipython",
    "version": 3
   },
   "file_extension": ".py",
   "mimetype": "text/x-python",
   "name": "python",
   "nbconvert_exporter": "python",
   "pygments_lexer": "ipython3",
   "version": "3.9.12"
  }
 },
 "nbformat": 4,
 "nbformat_minor": 5
}
