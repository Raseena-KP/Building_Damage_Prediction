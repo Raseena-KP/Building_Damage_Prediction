{
 "cells": [
  {
   "cell_type": "code",
   "execution_count": 1,
   "id": "d839f2e9",
   "metadata": {},
   "outputs": [],
   "source": [
    "#building damage Classification Prediction Model\n",
    "import numpy as np\n",
    "import pandas as pd\n",
    "from sklearn.ensemble import RandomForestClassifier\n",
    "from sklearn.preprocessing import LabelEncoder\n",
    "from sklearn.model_selection import train_test_split\n",
    "from sklearn.preprocessing import StandardScaler\n",
    "from sklearn.neighbors import DistanceMetric\n",
    "import pickle\n",
    "\n",
    "#reading the dataset to python \n",
    "df=pd.read_csv(\"csv_building_structure.csv\") \n",
    "# Handling Missing values\n",
    "df.isna().sum()\n",
    "index=[83766, 131558, 131579, 131627, 131629, 131640, 131652, 131654,131655, 131656, 131929, 131932]\n",
    "for i in index:\n",
    "    df.drop(i,axis=0,inplace=True)\n",
    "    \n",
    "def impute_plinth_area(cols):\n",
    "    rtype=cols[0]\n",
    "    plinth=cols[1]\n",
    "    if pd.isnull(plinth):\n",
    "        if rtype == \"Bamboo/Timber-Heavy roof\" :\n",
    "            return 360\n",
    "        elif rtype == \"Bamboo/Timber-Light roof\" :\n",
    "            return 345\n",
    "        elif rtype == \"RCC/RB/RBC\" :\n",
    "            return 700\n",
    "    else:\n",
    "        return plinth\n",
    "\n",
    "df[\"roof_type\"]=df[\"roof_type\"].fillna(df[\"roof_type\"].mode()[0])\n",
    "df[\"plinth_area_sq_ft\"]=df[[\"roof_type\",\"plinth_area_sq_ft\"]].apply(impute_plinth_area,axis=1)\n",
    "\n",
    "#Removing the duplicates\n",
    "df.drop_duplicates(keep='first',inplace=True)\n",
    "\n",
    "#Handling of outlirers in the dataset\n",
    "Q1=df['age_building'].quantile(0.25)\n",
    "Q3=df['age_building'].quantile(0.75)\n",
    "IQR=Q3-Q1    \n",
    "LL=Q1-(1.5*IQR)\n",
    "UL=Q3+(1.5*IQR)\n",
    "df['age_building']= np.where(df['age_building']>UL,UL,np.where(df['age_building']<LL,LL,\n",
    "                                                                           df['age_building']))\n",
    "Raw_Data=df.copy()\n",
    "Raw_Data['plinth_area_sq_ft'] = np.log(Raw_Data['plinth_area_sq_ft'])\n",
    "Raw_Data['height_ft_pre_eq'] = np.log(Raw_Data['height_ft_pre_eq'])\n",
    "Raw_Data.drop(['building_id', 'district_id', 'vdcmun_id', 'ward_id'],axis=1,inplace=True)\n",
    "Raw_Data.drop(['has_superstructure_timber',\n",
    "       'plan_configuration', 'has_superstructure_cement_mortar_brick',\n",
    "       'has_superstructure_bamboo', 'has_superstructure_stone_flag',\n",
    "       'has_superstructure_adobe_mud', 'has_superstructure_mud_mortar_brick',\n",
    "       'has_superstructure_cement_mortar_stone',\n",
    "       'has_superstructure_rc_non_engineered', 'has_superstructure_other',\n",
    "       'has_superstructure_rc_engineered'],axis=1,inplace=True)\n",
    "\n",
    "#Encoding the Target column\n",
    "lbl=LabelEncoder()\n",
    "Raw_Data[\"damage_grade\"]=lbl.fit_transform(Raw_Data[\"damage_grade\"])\n",
    "\n",
    "X = Raw_Data.drop(['damage_grade'],axis=1)\n",
    "y= Raw_Data['damage_grade']\n",
    " \n",
    "import category_encoders as ce \n",
    "# # Define catboost encoder\n",
    "cbe_encoder = ce.cat_boost.CatBoostEncoder()\n",
    "  \n",
    "# # Fit encoder and transform the features\n",
    "cbe_encoder.fit(X, y)\n",
    "X = cbe_encoder.transform(X)\n"
   ]
  },
  {
   "cell_type": "code",
   "execution_count": 2,
   "id": "b983bc49",
   "metadata": {},
   "outputs": [],
   "source": [
    "from collections import Counter\n",
    "from sklearn.datasets import make_classification\n",
    "from sklearn.metrics import confusion_matrix,accuracy_score,classification_report\n"
   ]
  },
  {
   "cell_type": "code",
   "execution_count": 3,
   "id": "31ceee14",
   "metadata": {},
   "outputs": [],
   "source": [
    "# Repeated Edited Neibours"
   ]
  },
  {
   "cell_type": "code",
   "execution_count": 4,
   "id": "fc9038cc",
   "metadata": {},
   "outputs": [
    {
     "name": "stdout",
     "output_type": "stream",
     "text": [
      "Original dataset shape Counter({4: 253777, 3: 175797, 2: 131894, 1: 85458, 0: 76598})\n"
     ]
    }
   ],
   "source": [
    "print('Original dataset shape {}'.format(Counter(y)))"
   ]
  },
  {
   "cell_type": "code",
   "execution_count": 5,
   "id": "18244738",
   "metadata": {},
   "outputs": [
    {
     "name": "stdout",
     "output_type": "stream",
     "text": [
      "Resampled dataset shape Counter({0: 76598, 4: 32693, 3: 6553, 2: 2138, 1: 1439})\n"
     ]
    }
   ],
   "source": [
    "from imblearn.under_sampling import RepeatedEditedNearestNeighbours # doctest : +NORMALIZE_WHITESPACE\n",
    "\n",
    "renn = RepeatedEditedNearestNeighbours()\n",
    "X_res, y_res = renn.fit_resample(X, y)\n",
    "print('Resampled dataset shape %s' % Counter(y_res))"
   ]
  },
  {
   "cell_type": "code",
   "execution_count": 6,
   "id": "9ed70a5b",
   "metadata": {},
   "outputs": [],
   "source": [
    "X_train,X_test,y_train,y_test = train_test_split(X_res,y_res,test_size=0.3,random_state=34,stratify=y_res)"
   ]
  },
  {
   "cell_type": "code",
   "execution_count": 7,
   "id": "a5c4df4f",
   "metadata": {},
   "outputs": [
    {
     "data": {
      "text/html": [
       "<style>#sk-container-id-1 {color: black;background-color: white;}#sk-container-id-1 pre{padding: 0;}#sk-container-id-1 div.sk-toggleable {background-color: white;}#sk-container-id-1 label.sk-toggleable__label {cursor: pointer;display: block;width: 100%;margin-bottom: 0;padding: 0.3em;box-sizing: border-box;text-align: center;}#sk-container-id-1 label.sk-toggleable__label-arrow:before {content: \"▸\";float: left;margin-right: 0.25em;color: #696969;}#sk-container-id-1 label.sk-toggleable__label-arrow:hover:before {color: black;}#sk-container-id-1 div.sk-estimator:hover label.sk-toggleable__label-arrow:before {color: black;}#sk-container-id-1 div.sk-toggleable__content {max-height: 0;max-width: 0;overflow: hidden;text-align: left;background-color: #f0f8ff;}#sk-container-id-1 div.sk-toggleable__content pre {margin: 0.2em;color: black;border-radius: 0.25em;background-color: #f0f8ff;}#sk-container-id-1 input.sk-toggleable__control:checked~div.sk-toggleable__content {max-height: 200px;max-width: 100%;overflow: auto;}#sk-container-id-1 input.sk-toggleable__control:checked~label.sk-toggleable__label-arrow:before {content: \"▾\";}#sk-container-id-1 div.sk-estimator input.sk-toggleable__control:checked~label.sk-toggleable__label {background-color: #d4ebff;}#sk-container-id-1 div.sk-label input.sk-toggleable__control:checked~label.sk-toggleable__label {background-color: #d4ebff;}#sk-container-id-1 input.sk-hidden--visually {border: 0;clip: rect(1px 1px 1px 1px);clip: rect(1px, 1px, 1px, 1px);height: 1px;margin: -1px;overflow: hidden;padding: 0;position: absolute;width: 1px;}#sk-container-id-1 div.sk-estimator {font-family: monospace;background-color: #f0f8ff;border: 1px dotted black;border-radius: 0.25em;box-sizing: border-box;margin-bottom: 0.5em;}#sk-container-id-1 div.sk-estimator:hover {background-color: #d4ebff;}#sk-container-id-1 div.sk-parallel-item::after {content: \"\";width: 100%;border-bottom: 1px solid gray;flex-grow: 1;}#sk-container-id-1 div.sk-label:hover label.sk-toggleable__label {background-color: #d4ebff;}#sk-container-id-1 div.sk-serial::before {content: \"\";position: absolute;border-left: 1px solid gray;box-sizing: border-box;top: 0;bottom: 0;left: 50%;z-index: 0;}#sk-container-id-1 div.sk-serial {display: flex;flex-direction: column;align-items: center;background-color: white;padding-right: 0.2em;padding-left: 0.2em;position: relative;}#sk-container-id-1 div.sk-item {position: relative;z-index: 1;}#sk-container-id-1 div.sk-parallel {display: flex;align-items: stretch;justify-content: center;background-color: white;position: relative;}#sk-container-id-1 div.sk-item::before, #sk-container-id-1 div.sk-parallel-item::before {content: \"\";position: absolute;border-left: 1px solid gray;box-sizing: border-box;top: 0;bottom: 0;left: 50%;z-index: -1;}#sk-container-id-1 div.sk-parallel-item {display: flex;flex-direction: column;z-index: 1;position: relative;background-color: white;}#sk-container-id-1 div.sk-parallel-item:first-child::after {align-self: flex-end;width: 50%;}#sk-container-id-1 div.sk-parallel-item:last-child::after {align-self: flex-start;width: 50%;}#sk-container-id-1 div.sk-parallel-item:only-child::after {width: 0;}#sk-container-id-1 div.sk-dashed-wrapped {border: 1px dashed gray;margin: 0 0.4em 0.5em 0.4em;box-sizing: border-box;padding-bottom: 0.4em;background-color: white;}#sk-container-id-1 div.sk-label label {font-family: monospace;font-weight: bold;display: inline-block;line-height: 1.2em;}#sk-container-id-1 div.sk-label-container {text-align: center;}#sk-container-id-1 div.sk-container {/* jupyter's `normalize.less` sets `[hidden] { display: none; }` but bootstrap.min.css set `[hidden] { display: none !important; }` so we also need the `!important` here to be able to override the default hidden behavior on the sphinx rendered scikit-learn.org. See: https://github.com/scikit-learn/scikit-learn/issues/21755 */display: inline-block !important;position: relative;}#sk-container-id-1 div.sk-text-repr-fallback {display: none;}</style><div id=\"sk-container-id-1\" class=\"sk-top-container\"><div class=\"sk-text-repr-fallback\"><pre>RandomForestClassifier()</pre><b>In a Jupyter environment, please rerun this cell to show the HTML representation or trust the notebook. <br />On GitHub, the HTML representation is unable to render, please try loading this page with nbviewer.org.</b></div><div class=\"sk-container\" hidden><div class=\"sk-item\"><div class=\"sk-estimator sk-toggleable\"><input class=\"sk-toggleable__control sk-hidden--visually\" id=\"sk-estimator-id-1\" type=\"checkbox\" checked><label for=\"sk-estimator-id-1\" class=\"sk-toggleable__label sk-toggleable__label-arrow\">RandomForestClassifier</label><div class=\"sk-toggleable__content\"><pre>RandomForestClassifier()</pre></div></div></div></div></div>"
      ],
      "text/plain": [
       "RandomForestClassifier()"
      ]
     },
     "execution_count": 7,
     "metadata": {},
     "output_type": "execute_result"
    }
   ],
   "source": [
    "classifier=RandomForestClassifier()\n",
    "classifier.fit(X_train,y_train)"
   ]
  },
  {
   "cell_type": "code",
   "execution_count": 8,
   "id": "146fc5d3",
   "metadata": {},
   "outputs": [
    {
     "name": "stdout",
     "output_type": "stream",
     "text": [
      "[[21262    52    70   240  1356]\n",
      " [  272   154     1     0     5]\n",
      " [  225     1   323    19    73]\n",
      " [  303     0    15  1207   441]\n",
      " [  709     0    16   119  8964]]\n",
      "0.8906690484829877\n",
      "              precision    recall  f1-score   support\n",
      "\n",
      "           0       0.93      0.93      0.93     22980\n",
      "           1       0.74      0.36      0.48       432\n",
      "           2       0.76      0.50      0.61       641\n",
      "           3       0.76      0.61      0.68      1966\n",
      "           4       0.83      0.91      0.87      9808\n",
      "\n",
      "    accuracy                           0.89     35827\n",
      "   macro avg       0.81      0.66      0.71     35827\n",
      "weighted avg       0.89      0.89      0.89     35827\n",
      "\n"
     ]
    }
   ],
   "source": [
    "y_pred=classifier.predict(X_test)\n",
    "print(confusion_matrix(y_test,y_pred))\n",
    "print(accuracy_score(y_test,y_pred))\n",
    "print(classification_report(y_test,y_pred))"
   ]
  },
  {
   "cell_type": "code",
   "execution_count": null,
   "id": "2fcc0540",
   "metadata": {},
   "outputs": [],
   "source": []
  }
 ],
 "metadata": {
  "kernelspec": {
   "display_name": "Python 3 (ipykernel)",
   "language": "python",
   "name": "python3"
  },
  "language_info": {
   "codemirror_mode": {
    "name": "ipython",
    "version": 3
   },
   "file_extension": ".py",
   "mimetype": "text/x-python",
   "name": "python",
   "nbconvert_exporter": "python",
   "pygments_lexer": "ipython3",
   "version": "3.9.12"
  }
 },
 "nbformat": 4,
 "nbformat_minor": 5
}
